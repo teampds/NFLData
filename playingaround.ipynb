{
  "nbformat": 4,
  "nbformat_minor": 0,
  "metadata": {
    "colab": {
      "name": "playingaround",
      "provenance": [],
      "include_colab_link": true
    },
    "kernelspec": {
      "name": "ir",
      "display_name": "R"
    }
  },
  "cells": [
    {
      "cell_type": "markdown",
      "metadata": {
        "id": "view-in-github",
        "colab_type": "text"
      },
      "source": [
        "<a href=\"https://colab.research.google.com/gist/DenizGuelcicek/d9ae1654ab0e30459199c11f7b177c2e/playingaround.ipynb\" target=\"_parent\"><img src=\"https://colab.research.google.com/assets/colab-badge.svg\" alt=\"Open In Colab\"/></a>"
      ]
    },
    {
      "cell_type": "code",
      "metadata": {
        "id": "sIR7zvmg9nWN",
        "colab_type": "code",
        "colab": {}
      },
      "source": [
        "# Load packages\n",
        "library(tidyverse)\n",
        "library(ggplot2)\n",
        "library(googledrive)"
      ],
      "execution_count": 10,
      "outputs": []
    },
    {
      "cell_type": "code",
      "metadata": {
        "id": "vltbzRmXbyD6",
        "colab_type": "code",
        "colab": {}
      },
      "source": [
        "install.packages(\"googledrive\")\n"
      ],
      "execution_count": null,
      "outputs": []
    },
    {
      "cell_type": "code",
      "metadata": {
        "id": "Mzqj0Hj_6kf1",
        "colab_type": "code",
        "colab": {}
      },
      "source": [
        ""
      ],
      "execution_count": null,
      "outputs": []
    },
    {
      "cell_type": "code",
      "metadata": {
        "id": "BCHLkG8oWBSs",
        "colab_type": "code",
        "colab": {}
      },
      "source": [
        "# Load the data\n",
        "\n",
        "# Time Period 2009 - 2019\n",
        "first <- 2009 #first season to grab. min available=2009\n",
        "last <- 2019 # most recent season\n",
        "\n",
        "datalist = list()\n",
        "\n",
        "for (yr in first:last) {\n",
        "    pbp <- read_csv(url(paste0(\"https://github.com/ryurko/nflscrapR-data/raw/master/play_by_play_data/regular_season/reg_pbp_\", yr, \".csv\")))\n",
        "    games <- read_csv(url(paste0(\"https://raw.githubusercontent.com/ryurko/nflscrapR-data/master/games_data/regular_season/reg_games_\", yr, \".csv\")))\n",
        "    pbp <- pbp %>% \n",
        "      inner_join(games %>% distinct(game_id, week, season)) %>% \n",
        "      select(-fumble_recovery_2_yards, -blocked_player_id, -fumble_recovery_2_player_id)\n",
        "    datalist[[yr]] <- pbp \n",
        "}\n",
        "\n",
        "pbp_all <- dplyr::bind_rows(datalist)"
      ],
      "execution_count": null,
      "outputs": []
    },
    {
      "cell_type": "code",
      "metadata": {
        "id": "4JePLtFM8H4P",
        "colab_type": "code",
        "colab": {}
      },
      "source": [
        "# Check the team name consistency over periods\n",
        "pbp_all %>% group_by(home_team) %>%summarize(n=n(), seasons=n_distinct(season), minyr=min(season), maxyr=max(season)) %>% \n",
        "\tarrange(seasons)"
      ],
      "execution_count": null,
      "outputs": []
    },
    {
      "cell_type": "code",
      "metadata": {
        "id": "WLzM2CR8Wnj0",
        "colab_type": "code",
        "colab": {}
      },
      "source": [
        "# Rename inconsistent team names \n",
        "pbp_all <- pbp_all %>% \n",
        "\tmutate_at(vars(home_team, away_team, posteam, defteam), funs(case_when(\n",
        "            . %in% \"JAX\" ~ \"JAC\",\n",
        "            . %in% \"STL\" ~ \"LA\",\n",
        "            . %in% \"SD\" ~ \"LAC\",\n",
        "            TRUE ~ .\n",
        "        ))) "
      ],
      "execution_count": 18,
      "outputs": []
    },
    {
      "cell_type": "code",
      "metadata": {
        "id": "PkQACPq2_yUQ",
        "colab_type": "code",
        "colab": {}
      },
      "source": [
        "# Save the dataframe\n",
        "saveRDS(pbp_all, file=\"NFLdata.rds\")\n",
        "pbp_all <- readRDS(\"NFLdata.rds\")"
      ],
      "execution_count": 21,
      "outputs": []
    },
    {
      "cell_type": "code",
      "metadata": {
        "id": "Yiq56UTbAeLG",
        "colab_type": "code",
        "colab": {}
      },
      "source": [
        "#Clean up\n",
        "\n",
        "pbp_all_rp <- pbp_all %>%\n",
        "#removing plays that don't have values for epa, and that are either pass plays, run plays, or penalties (\"no play\")\n",
        "      filter(!is.na(epa), !is.na(posteam), play_type==\"no_play\" | play_type==\"pass\" | play_type==\"run\") %>% \n",
        "\n",
        "\n",
        "\tmutate(\n",
        "#\"pass\" searches the \"desc\" variable for plays with \"pass\", \"sacked\", or \"scramble\", \n",
        "\tpass = if_else(str_detect(desc, \"( pass)|(sacked)|(scramble)\"), 1, 0),\n",
        "# rush searches the \"desc\" for a successful play (using the simple definition for success of positive EPA)\n",
        "\trush = if_else(str_detect(desc, \"(left end)|(left tackle)|(left guard)|(up the middle)|(right guard)|(right tackle)|(right end)\") & pass == 0, 1, 0),\n",
        "\tsuccess = ifelse(epa>0, 1 , 0),\n",
        "\n",
        "# passer player names\n",
        "\tpasser_player_name = ifelse(play_type == \"no_play\" & pass == 1, \n",
        "              str_extract(desc, \"(?<=\\\\s)[A-Z][a-z]*\\\\.\\\\s?[A-Z][A-z]+(\\\\s(I{2,3})|(IV))?(?=\\\\s((pass)|(sack)|(scramble)))\"),\n",
        "              passer_player_name),\n",
        "# receiver player names\t\t\t\t\t\n",
        "        receiver_player_name = ifelse(play_type == \"no_play\" & str_detect(desc, \"pass\"), \n",
        "              str_extract(desc, \"(?<=to\\\\s)[A-Z][a-z]*\\\\.\\\\s?[A-Z][A-z]+(\\\\s(I{2,3})|(IV))?\"),\n",
        "              receiver_player_name),\n",
        "# rusher player names\t\t\t\t\t\t\t\t\n",
        "        rusher_player_name = ifelse(play_type == \"no_play\" & rush == 1, \n",
        "              str_extract(desc, \"(?<=\\\\s)[A-Z][a-z]*\\\\.\\\\s?[A-Z][A-z]+(\\\\s(I{2,3})|(IV))?(?=\\\\s((left end)|(left tackle)|(left guard)|\t\t      (up the middle)|(right guard)|(right tackle)|(right end)))\"),\n",
        "              rusher_player_name),\n",
        "\tname = ifelse(!is.na(passer_player_name), passer_player_name, rusher_player_name),\n",
        "\n",
        "\n",
        "\tyards_gained=ifelse(play_type==\"no_play\",NA,yards_gained),\n",
        "\tplay=1\n",
        "\t) %>%\n",
        "\tfilter(pass==1 | rush==1)  # keep only the run or pass plays"
      ],
      "execution_count": null,
      "outputs": []
    },
    {
      "cell_type": "code",
      "metadata": {
        "id": "vVd3f1xXBX9G",
        "colab_type": "code",
        "colab": {}
      },
      "source": [
        "pbp_all_rp %>%\n",
        "\n",
        "           filter(rusher_player_name == \"C.Newton\") %>%\n",
        "           select(desc, yardline_100, home_team, defteam, play_type, down, season, week)"
      ],
      "execution_count": null,
      "outputs": []
    }
  ]
}
