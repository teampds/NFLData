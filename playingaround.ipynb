{
  "nbformat": 4,
  "nbformat_minor": 0,
  "metadata": {
    "colab": {
      "name": "playingaround",
      "provenance": []
    },
    "kernelspec": {
      "name": "ir",
      "display_name": "R"
    }
  },
  "cells": [
    {
      "cell_type": "code",
      "metadata": {
        "id": "sIR7zvmg9nWN",
        "colab_type": "code",
        "colab": {
          "base_uri": "https://localhost:8080/",
          "height": 204
        },
        "outputId": "4980be1a-c49d-4184-d09c-ddcdf8600260"
      },
      "source": [
        "library(tidyverse)\n",
        "library(ggplot2)\n"
      ],
      "execution_count": 3,
      "outputs": [
        {
          "output_type": "stream",
          "text": [
            "── \u001b[1mAttaching packages\u001b[22m ─────────────────────────────────────── tidyverse 1.3.0 ──\n",
            "\n",
            "\u001b[32m✔\u001b[39m \u001b[34mggplot2\u001b[39m 3.3.1     \u001b[32m✔\u001b[39m \u001b[34mpurrr  \u001b[39m 0.3.4\n",
            "\u001b[32m✔\u001b[39m \u001b[34mtibble \u001b[39m 3.0.1     \u001b[32m✔\u001b[39m \u001b[34mdplyr  \u001b[39m 1.0.0\n",
            "\u001b[32m✔\u001b[39m \u001b[34mtidyr  \u001b[39m 1.1.0     \u001b[32m✔\u001b[39m \u001b[34mstringr\u001b[39m 1.4.0\n",
            "\u001b[32m✔\u001b[39m \u001b[34mreadr  \u001b[39m 1.3.1     \u001b[32m✔\u001b[39m \u001b[34mforcats\u001b[39m 0.5.0\n",
            "\n",
            "── \u001b[1mConflicts\u001b[22m ────────────────────────────────────────── tidyverse_conflicts() ──\n",
            "\u001b[31m✖\u001b[39m \u001b[34mdplyr\u001b[39m::\u001b[32mfilter()\u001b[39m masks \u001b[34mstats\u001b[39m::filter()\n",
            "\u001b[31m✖\u001b[39m \u001b[34mdplyr\u001b[39m::\u001b[32mlag()\u001b[39m    masks \u001b[34mstats\u001b[39m::lag()\n",
            "\n"
          ],
          "name": "stderr"
        }
      ]
    },
    {
      "cell_type": "code",
      "metadata": {
        "id": "vltbzRmXbyD6",
        "colab_type": "code",
        "colab": {
          "base_uri": "https://localhost:8080/",
          "height": 119
        },
        "outputId": "be5d6745-1af1-47f5-f553-8084ee6db057"
      },
      "source": [
        "install.packages(\"googledrive\")\n"
      ],
      "execution_count": 20,
      "outputs": [
        {
          "output_type": "stream",
          "text": [
            "Installing package into ‘/usr/local/lib/R/site-library’\n",
            "(as ‘lib’ is unspecified)\n",
            "\n",
            "also installing the dependency ‘gargle’\n",
            "\n",
            "\n"
          ],
          "name": "stderr"
        }
      ]
    },
    {
      "cell_type": "code",
      "metadata": {
        "id": "dQZhONksb2uI",
        "colab_type": "code",
        "colab": {}
      },
      "source": [
        "library(googledrive)"
      ],
      "execution_count": 21,
      "outputs": []
    },
    {
      "cell_type": "code",
      "metadata": {
        "id": "AOX6lQ8Ob4TL",
        "colab_type": "code",
        "colab": {}
      },
      "source": [
        "chicken <- drive_upload(\n",
        "  drive_example(\"chicken.csv\"),\n",
        "  \"README-chicken.csv\""
      ],
      "execution_count": null,
      "outputs": []
    },
    {
      "cell_type": "code",
      "metadata": {
        "id": "BCHLkG8oWBSs",
        "colab_type": "code",
        "colab": {}
      },
      "source": [
        "first <- 2009 \n",
        "last <- 2019 \n",
        "\n",
        "datalist = list()\n",
        "for (yr in first:last) {\n",
        "    pbp <- read_csv(url(paste0(\"https://github.com/ryurko/nflscrapR-data/raw/master/play_by_play_data/regular_season/reg_pbp_\", yr, \".csv\")))\n",
        "    games <- read_csv(url(paste0(\"https://raw.githubusercontent.com/ryurko/nflscrapR-data/master/games_data/regular_season/reg_games_\", yr, \".csv\")))\n",
        "    pbp <- pbp %>% \n",
        "      inner_join(games %>% distinct(game_id, week, season)) %>% \n",
        "      select(-fumble_recovery_2_yards, -blocked_player_id, -fumble_recovery_2_player_id)\n",
        "    datalist[[yr]] <- pbp \n",
        "}\n",
        "\n",
        "pbp_all <- dplyr::bind_rows(datalist)"
      ],
      "execution_count": null,
      "outputs": []
    },
    {
      "cell_type": "code",
      "metadata": {
        "id": "WLzM2CR8Wnj0",
        "colab_type": "code",
        "colab": {}
      },
      "source": [
        "pbp_all <- pbp_all %>% \n",
        "\tmutate_at(vars(home_team, away_team, posteam, defteam), funs(case_when(\n",
        "            . %in% \"JAX\" ~ \"JAC\",\n",
        "            . %in% \"STL\" ~ \"LA\",\n",
        "            . %in% \"SD\" ~ \"LAC\",\n",
        "            TRUE ~ .\n",
        "        ))) "
      ],
      "execution_count": 6,
      "outputs": []
    },
    {
      "cell_type": "code",
      "metadata": {
        "id": "PkQACPq2_yUQ",
        "colab_type": "code",
        "colab": {}
      },
      "source": [
        "saveRDS(pbp_all, file=\"NFLdata.rds\")\n",
        "pbp_all <- readRDS(\"NFLdata.rds\")"
      ],
      "execution_count": 7,
      "outputs": []
    },
    {
      "cell_type": "code",
      "metadata": {
        "id": "Yiq56UTbAeLG",
        "colab_type": "code",
        "colab": {}
      },
      "source": [
        "pbp_all_rp <- pbp_all %>%\n",
        "      filter(!is.na(epa), !is.na(posteam), play_type==\"no_play\" | play_type==\"pass\" | play_type==\"run\") %>%\n",
        "\tmutate(\n",
        "\tpass = if_else(str_detect(desc, \"( pass)|(sacked)|(scramble)\"), 1, 0),\n",
        "\trush = if_else(str_detect(desc, \"(left end)|(left tackle)|(left guard)|(up the middle)|(right guard)|(right tackle)|(right end)\") & pass == 0, 1, 0),\n",
        "\tsuccess = ifelse(epa>0, 1 , 0),\n",
        "\tpasser_player_name = ifelse(play_type == \"no_play\" & pass == 1, \n",
        "              str_extract(desc, \"(?<=\\\\s)[A-Z][a-z]*\\\\.\\\\s?[A-Z][A-z]+(\\\\s(I{2,3})|(IV))?(?=\\\\s((pass)|(sack)|(scramble)))\"),\n",
        "              passer_player_name),\n",
        "        receiver_player_name = ifelse(play_type == \"no_play\" & str_detect(desc, \"pass\"), \n",
        "              str_extract(desc, \"(?<=to\\\\s)[A-Z][a-z]*\\\\.\\\\s?[A-Z][A-z]+(\\\\s(I{2,3})|(IV))?\"),\n",
        "              receiver_player_name),\n",
        "        rusher_player_name = ifelse(play_type == \"no_play\" & rush == 1, \n",
        "              str_extract(desc, \"(?<=\\\\s)[A-Z][a-z]*\\\\.\\\\s?[A-Z][A-z]+(\\\\s(I{2,3})|(IV))?(?=\\\\s((left end)|(left tackle)|(left guard)|\t\t      (up the middle)|(right guard)|(right tackle)|(right end)))\"),\n",
        "              rusher_player_name),\n",
        "\tname = ifelse(!is.na(passer_player_name), passer_player_name, rusher_player_name),\n",
        "\tyards_gained=ifelse(play_type==\"no_play\",NA,yards_gained),\n",
        "\tplay=1\n",
        "\t) %>%\n",
        "\tfilter(pass==1 | rush==1)"
      ],
      "execution_count": 10,
      "outputs": []
    },
    {
      "cell_type": "code",
      "metadata": {
        "id": "vVd3f1xXBX9G",
        "colab_type": "code",
        "colab": {
          "base_uri": "https://localhost:8080/",
          "height": 1000
        },
        "outputId": "dbae1b2b-a14e-4777-f374-14bfc6ac93db"
      },
      "source": [
        "pbp_all_rp %>%\n",
        "\n",
        "           filter(rusher_player_name == \"C.Newton\") %>%\n",
        "           select(desc, yardline_100, home_team, defteam, play_type, down, season, week)"
      ],
      "execution_count": 19,
      "outputs": [
        {
          "output_type": "display_data",
          "data": {
            "text/plain": [
              "    desc                                                                                                                                                                                                                          \n",
              "1   (4:19) C.Newton up the middle to CAR 30 for -4 yards (R.Marshall).                                                                                                                                                            \n",
              "2   (:07) C.Newton scrambles right tackle to CAR 41 for 3 yards (P.Lenon).                                                                                                                                                        \n",
              "3   (5:11) (Shotgun) C.Newton scrambles right end to CAR 14 for 2 yards (P.Lenon).                                                                                                                                                \n",
              "4   (1:03) (Shotgun) C.Newton scrambles right end pushed ob at CAR 38 for 12 yards (D.Washington).                                                                                                                                \n",
              "5   (6:29) C.Newton up the middle to ARI 1 for 1 yard (D.Williams).                                                                                                                                                               \n",
              "6   (5:54) (Shotgun) C.Newton up the middle for 1 yard, TOUCHDOWN. PENALTY on CAR-C.Newton, Unsportsmanlike Conduct, 15 yards, enforced between downs.                                                                            \n",
              "7   (5:51) (Shotgun) C.Newton scrambles up the middle to CAR 36 for 2 yards (N.Eason, P.Lenon).                                                                                                                                   \n",
              "8   (1:54) (Shotgun) C.Newton scrambles right end ran ob at ARI 45 for 1 yard (C.Campbell).                                                                                                                                       \n",
              "9   (10:43) (Shotgun) C.Newton scrambles right end to GB 1 for 3 yards (M.Burnett).                                                                                                                                               \n",
              "10  (8:18) (Shotgun) C.Newton scrambles up the middle to GB 5 for 6 yards (J.Bush).                                                                                                                                               \n",
              "11  (2:55) (Shotgun) C.Newton scrambles right end to CAR 42 for 9 yards (D.Bishop).                                                                                                                                               \n",
              "12  (5:46) C.Newton scrambles left end to CAR 25 for 12 yards (N.Collins).                                                                                                                                                        \n",
              "13  (3:50) C.Newton scrambles up the middle to CAR 39 for 7 yards (E.Walden).                                                                                                                                                     \n",
              "14  (14:24) (Shotgun) C.Newton scrambles up the middle to GB 44 for 2 yards (B.Raji, J.Wynn).                                                                                                                                     \n",
              "15  (11:00) (Shotgun) C.Newton scrambles up the middle to GB 3 for 5 yards (B.Raji).                                                                                                                                              \n",
              "16  (3:22) (Shotgun) C.Newton scrambles up the middle to GB 3 for 3 yards (C.Matthews).                                                                                                                                           \n",
              "17  (:47) (Shotgun) C.Newton scrambles up the middle to GB 4 for 2 yards (C.Wilson).                                                                                                                                              \n",
              "18  (:41) (Shotgun) C.Newton up the middle for 4 yards, TOUCHDOWN.                                                                                                                                                                \n",
              "19  (13:34) (Shotgun) C.Newton up the middle to CAR 35 for 6 yards (C.Prosinski).                                                                                                                                                 \n",
              "20  (11:13) C.Newton scrambles right end to JAC 47 for 6 yards (D.Smith).                                                                                                                                                         \n",
              "21  (5:20) C.Newton scrambles right end to JAC 47 for 4 yards (D.Coleman).                                                                                                                                                        \n",
              "22  (15:00) (Shotgun) C.Newton right end to JAC 17 for 1 yard (D.Lowery).                                                                                                                                                         \n",
              "23  (3:56) (Shotgun) C.Newton right tackle to JAC 15 for 2 yards (A.Lane).                                                                                                                                                        \n",
              "24  (3:12) (Shotgun) C.Newton up the middle to JAC 14 for 1 yard (A.Lane; T.Alualu).                                                                                                                                              \n",
              "25  (4:41) (Shotgun) C.Newton scrambles right end to JAC 16 for 7 yards (D.Smith).                                                                                                                                                \n",
              "26  (2:13) (Shotgun) C.Newton right end pushed ob at CAR 43 for 14 yards (B.Meriweather).                                                                                                                                         \n",
              "27  (:14) (Shotgun) C.Newton right guard to CHI 1 for no gain (A.Okoye).                                                                                                                                                          \n",
              "28  (15:00) C.Newton right end for 1 yard, TOUCHDOWN.                                                                                                                                                                             \n",
              "29  (10:15) C.Newton scrambles left tackle pushed ob at CHI 21 for 13 yards (T.Jennings).                                                                                                                                         \n",
              "30  (6:34) (Shotgun) C.Newton right guard for 2 yards, TOUCHDOWN.                                                                                                                                                                 \n",
              "⋮   ⋮                                                                                                                                                                                                                             \n",
              "811 (12:04) (Shotgun) C.Newton up the middle to PIT 22 for 8 yards (L.Fort, C.Heyward).                                                                                                                                           \n",
              "812 (13:36) C.Newton up the middle to CAR 37 for 2 yards (J.Hargrave).                                                                                                                                                            \n",
              "813 (11:45) (Shotgun) C.Newton scrambles right end pushed ob at DET 33 for 2 yards (C.Jones).                                                                                                                                     \n",
              "814 (2:01) (Shotgun) C.Newton up the middle to CAR 30 for no gain (D.Hand).                                                                                                                                                       \n",
              "815 (12:29) (Shotgun) C.Newton left tackle to CAR 44 for 10 yards (B.Mingo; B.Wagner).                                                                                                                                            \n",
              "816 (11:08) (No Huddle, Shotgun) C.Newton left guard to SEA 39 for 12 yards (B.McDougald).                                                                                                                                        \n",
              "817 (8:06) (Shotgun) C.Newton up the middle to SEA 5 for 2 yards (J.Reed; B.Wagner).                                                                                                                                              \n",
              "818 (7:23) (Shotgun) C.Newton right guard to SEA 4 for 1 yard (B.Wagner; A.Calitro). Carolina challenged the short of the line to gain ruling, and the play was Upheld. The ruling on the field stands. (Timeout #1 at 07:15.)    \n",
              "819 (14:08) (Shotgun) C.Newton scrambles left tackle to SEA 44 for 26 yards (T.Thompson).                                                                                                                                         \n",
              "820 (4:08) (Shotgun) C.Newton up the middle to SEA 35 for 9 yards (B.Wagner).                                                                                                                                                     \n",
              "821 (2:00) (Shotgun) C.Newton up the middle to SEA 37 for 3 yards (J.Reed).                                                                                                                                                       \n",
              "822 (9:46) (Shotgun) C.Newton left end to CAR 27 for 2 yards (L.David).                                                                                                                                                           \n",
              "823 (7:47) (Shotgun) C.Newton scrambles right end pushed ob at CAR 18 for 1 yard (W.Gholston).                                                                                                                                    \n",
              "824 (4:14) (Shotgun) C.Newton scrambles right end pushed ob at CAR 40 for 15 yards (Dev.Harris).                                                                                                                                  \n",
              "825 (2:51) (Shotgun) C.Newton right end to TB 49 for 11 yards (A.Taylor).                                                                                                                                                         \n",
              "826 (5:58) (Shotgun) C.Newton right end to TB 32 for 5 yards (Dev.Harris).                                                                                                                                                        \n",
              "827 (6:21) (Shotgun) C.Newton left tackle to CAR 37 for 3 yards (C.Smith).                                                                                                                                                        \n",
              "828 (:54) (Shotgun) C.Newton scrambles right end pushed ob at CLE 8 for 2 yards (J.Collins Sr.).                                                                                                                                  \n",
              "829 (14:11) (Shotgun) C.Newton scrambles right end to CLE 35 for 5 yards (J.Schobert).                                                                                                                                            \n",
              "830 (11:37) (Shotgun) C.Newton right end to CAR 48 for 2 yards (T.Vallejo; J.Schobert).                                                                                                                                           \n",
              "831 (5:16) (Shotgun) C.Newton up the middle to CLE 33 for 11 yards (B.Boddy-Calhoun).                                                                                                                                             \n",
              "832 (7:26) (Shotgun) C.Newton left end to CAR 10 for no gain (V.Bell; A.Klein).                                                                                                                                                   \n",
              "833 (8:45) C.Newton up the middle to CAR 37 for 3 yards (A.Klein; M.Davenport).                                                                                                                                                   \n",
              "834 (2:46) (Shotgun) C.Newton scrambles up the middle to CAR 18 for 5 yards (A.Okafor). Penalty on CAR-T.Moton, Offensive Holding, declined.                                                                                      \n",
              "835 (:40) (Shotgun) C.Newton up the middle to NO 20 for 5 yards (P.Williams, C.Jordan).                                                                                                                                           \n",
              "836 (3:50) (Shotgun) C.Newton right tackle to CAR 49 for 1 yard (A.Anzalone). Carolina challenged the short of the line to gain ruling, and the play was REVERSED. (Shotgun) C.Newton right tackle to 50 for 2 yards (A.Anzalone).\n",
              "837 (11:49) (Shotgun) C.Newton scrambles up the middle to CAR 43 for 3 yards (B.Hager).                                                                                                                                           \n",
              "838 (12:02) (Shotgun) C.Newton up the middle to CAR 29 for no gain (A.Donald).                                                                                                                                                    \n",
              "839 (8:40) (Shotgun) C.Newton right end to TB 47 for no gain (J.Whitehead). Carolina challenged the short of the line to gain ruling, and the play was Upheld. The ruling on the field stands. (Timeout #1 at 08:31.)             \n",
              "840 (3:04) (Shotgun) C.Newton up the middle to CAR 44 for no gain (A.Nelson; L.David). FUMBLES (A.Nelson), RECOVERED by TB-N.Suh at CAR 45. N.Suh to CAR 45 for no gain (T.Moton).                                                \n",
              "    yardline_100 home_team defteam play_type down season week\n",
              "1   66           ARI       ARI     run       2    2011   1   \n",
              "2   62           ARI       ARI     run       1    2011   1   \n",
              "3   88           ARI       ARI     run       3    2011   1   \n",
              "4   74           ARI       ARI     run       1    2011   1   \n",
              "5    2           ARI       ARI     run       1    2011   1   \n",
              "6    1           ARI       ARI     run       2    2011   1   \n",
              "7   66           ARI       ARI     run       3    2011   1   \n",
              "8   46           ARI       ARI     run       1    2011   1   \n",
              "9    4           CAR       GB      run       2    2011   2   \n",
              "10  11           CAR       GB      run       2    2011   2   \n",
              "11  67           CAR       GB      run       3    2011   2   \n",
              "12  87           CAR       GB      run       1    2011   2   \n",
              "13  68           CAR       GB      run       1    2011   2   \n",
              "14  46           CAR       GB      run       1    2011   2   \n",
              "15   8           CAR       GB      run       1    2011   2   \n",
              "16   6           CAR       GB      run       4    2011   2   \n",
              "17   6           CAR       GB      run       2    2011   2   \n",
              "18   4           CAR       GB      run       3    2011   2   \n",
              "19  71           CAR       JAC     run       3    2011   3   \n",
              "20  53           CAR       JAC     run       2    2011   3   \n",
              "21  51           CAR       JAC     run       2    2011   3   \n",
              "22  18           CAR       JAC     run       3    2011   3   \n",
              "23  17           CAR       JAC     run       2    2011   3   \n",
              "24  15           CAR       JAC     run       3    2011   3   \n",
              "25  23           CAR       JAC     run       2    2011   3   \n",
              "26  71           CHI       CHI     run       3    2011   4   \n",
              "27   1           CHI       CHI     run       1    2011   4   \n",
              "28   1           CHI       CHI     run       2    2011   4   \n",
              "29  34           CHI       CHI     run       2    2011   4   \n",
              "30   2           CHI       CHI     run       3    2011   4   \n",
              "⋮   ⋮            ⋮         ⋮       ⋮         ⋮    ⋮      ⋮   \n",
              "811 30           PIT       PIT     run       3    2018   10  \n",
              "812 65           PIT       PIT     run       3    2018   10  \n",
              "813 35           DET       DET     run       1    2018   11  \n",
              "814 70           DET       DET     run       2    2018   11  \n",
              "815 66           CAR       SEA     run       2    2018   12  \n",
              "816 51           CAR       SEA     run       2    2018   12  \n",
              "817  7           CAR       SEA     run       3    2018   12  \n",
              "818  5           CAR       SEA     run       4    2018   12  \n",
              "819 70           CAR       SEA     run       3    2018   12  \n",
              "820 44           CAR       SEA     run       3    2018   12  \n",
              "821 40           CAR       SEA     run       1    2018   12  \n",
              "822 75           TB        TB      run       1    2018   13  \n",
              "823 83           TB        TB      run       3    2018   13  \n",
              "824 75           TB        TB      run       1    2018   13  \n",
              "825 60           TB        TB      run       2    2018   13  \n",
              "826 37           TB        TB      run       1    2018   13  \n",
              "827 66           CLE       CLE     run       3    2018   14  \n",
              "828 10           CLE       CLE     run       2    2018   14  \n",
              "829 40           CLE       CLE     run       2    2018   14  \n",
              "830 54           CLE       CLE     run       1    2018   14  \n",
              "831 44           CLE       CLE     run       3    2018   14  \n",
              "832 90           CAR       NO      run       1    2018   15  \n",
              "833 66           CAR       NO      run       3    2018   15  \n",
              "834 87           CAR       NO      run       3    2018   15  \n",
              "835 25           CAR       NO      run       2    2018   15  \n",
              "836 52           CAR       NO      run       3    2018   15  \n",
              "837 60           CAR       LA      run       2    2019    1  \n",
              "838 71           CAR       LA      run       1    2019    1  \n",
              "839 47           CAR       TB      run       4    2019    2  \n",
              "840 56           CAR       TB      run       2    2019    2  "
            ],
            "text/latex": "A tibble: 840 × 8\n\\begin{tabular}{llllllll}\n desc & yardline\\_100 & home\\_team & defteam & play\\_type & down & season & week\\\\\n <chr> & <dbl> & <chr> & <chr> & <chr> & <dbl> & <dbl> & <dbl>\\\\\n\\hline\n\t (4:19) C.Newton up the middle to CAR 30 for -4 yards (R.Marshall).                                                                                 & 66 & ARI & ARI & run & 2 & 2011 & 1\\\\\n\t (:07) C.Newton scrambles right tackle to CAR 41 for 3 yards (P.Lenon).                                                                             & 62 & ARI & ARI & run & 1 & 2011 & 1\\\\\n\t (5:11) (Shotgun) C.Newton scrambles right end to CAR 14 for 2 yards (P.Lenon).                                                                     & 88 & ARI & ARI & run & 3 & 2011 & 1\\\\\n\t (1:03) (Shotgun) C.Newton scrambles right end pushed ob at CAR 38 for 12 yards (D.Washington).                                                     & 74 & ARI & ARI & run & 1 & 2011 & 1\\\\\n\t (6:29) C.Newton up the middle to ARI 1 for 1 yard (D.Williams).                                                                                    &  2 & ARI & ARI & run & 1 & 2011 & 1\\\\\n\t (5:54) (Shotgun) C.Newton up the middle for 1 yard, TOUCHDOWN. PENALTY on CAR-C.Newton, Unsportsmanlike Conduct, 15 yards, enforced between downs. &  1 & ARI & ARI & run & 2 & 2011 & 1\\\\\n\t (5:51) (Shotgun) C.Newton scrambles up the middle to CAR 36 for 2 yards (N.Eason, P.Lenon).                                                        & 66 & ARI & ARI & run & 3 & 2011 & 1\\\\\n\t (1:54) (Shotgun) C.Newton scrambles right end ran ob at ARI 45 for 1 yard (C.Campbell).                                                            & 46 & ARI & ARI & run & 1 & 2011 & 1\\\\\n\t (10:43) (Shotgun) C.Newton scrambles right end to GB 1 for 3 yards (M.Burnett).                                                                    &  4 & CAR & GB  & run & 2 & 2011 & 2\\\\\n\t (8:18) (Shotgun) C.Newton scrambles up the middle to GB 5 for 6 yards (J.Bush).                                                                    & 11 & CAR & GB  & run & 2 & 2011 & 2\\\\\n\t (2:55) (Shotgun) C.Newton scrambles right end to CAR 42 for 9 yards (D.Bishop).                                                                    & 67 & CAR & GB  & run & 3 & 2011 & 2\\\\\n\t (5:46) C.Newton scrambles left end to CAR 25 for 12 yards (N.Collins).                                                                             & 87 & CAR & GB  & run & 1 & 2011 & 2\\\\\n\t (3:50) C.Newton scrambles up the middle to CAR 39 for 7 yards (E.Walden).                                                                          & 68 & CAR & GB  & run & 1 & 2011 & 2\\\\\n\t (14:24) (Shotgun) C.Newton scrambles up the middle to GB 44 for 2 yards (B.Raji, J.Wynn).                                                          & 46 & CAR & GB  & run & 1 & 2011 & 2\\\\\n\t (11:00) (Shotgun) C.Newton scrambles up the middle to GB 3 for 5 yards (B.Raji).                                                                   &  8 & CAR & GB  & run & 1 & 2011 & 2\\\\\n\t (3:22) (Shotgun) C.Newton scrambles up the middle to GB 3 for 3 yards (C.Matthews).                                                                &  6 & CAR & GB  & run & 4 & 2011 & 2\\\\\n\t (:47) (Shotgun) C.Newton scrambles up the middle to GB 4 for 2 yards (C.Wilson).                                                                   &  6 & CAR & GB  & run & 2 & 2011 & 2\\\\\n\t (:41) (Shotgun) C.Newton up the middle for 4 yards, TOUCHDOWN.                                                                                     &  4 & CAR & GB  & run & 3 & 2011 & 2\\\\\n\t (13:34) (Shotgun) C.Newton up the middle to CAR 35 for 6 yards (C.Prosinski).                                                                      & 71 & CAR & JAC & run & 3 & 2011 & 3\\\\\n\t (11:13) C.Newton scrambles right end to JAC 47 for 6 yards (D.Smith).                                                                              & 53 & CAR & JAC & run & 2 & 2011 & 3\\\\\n\t (5:20) C.Newton scrambles right end to JAC 47 for 4 yards (D.Coleman).                                                                             & 51 & CAR & JAC & run & 2 & 2011 & 3\\\\\n\t (15:00) (Shotgun) C.Newton right end to JAC 17 for 1 yard (D.Lowery).                                                                              & 18 & CAR & JAC & run & 3 & 2011 & 3\\\\\n\t (3:56) (Shotgun) C.Newton right tackle to JAC 15 for 2 yards (A.Lane).                                                                             & 17 & CAR & JAC & run & 2 & 2011 & 3\\\\\n\t (3:12) (Shotgun) C.Newton up the middle to JAC 14 for 1 yard (A.Lane; T.Alualu).                                                                   & 15 & CAR & JAC & run & 3 & 2011 & 3\\\\\n\t (4:41) (Shotgun) C.Newton scrambles right end to JAC 16 for 7 yards (D.Smith).                                                                     & 23 & CAR & JAC & run & 2 & 2011 & 3\\\\\n\t (2:13) (Shotgun) C.Newton right end pushed ob at CAR 43 for 14 yards (B.Meriweather).                                                              & 71 & CHI & CHI & run & 3 & 2011 & 4\\\\\n\t (:14) (Shotgun) C.Newton right guard to CHI 1 for no gain (A.Okoye).                                                                               &  1 & CHI & CHI & run & 1 & 2011 & 4\\\\\n\t (15:00) C.Newton right end for 1 yard, TOUCHDOWN.                                                                                                  &  1 & CHI & CHI & run & 2 & 2011 & 4\\\\\n\t (10:15) C.Newton scrambles left tackle pushed ob at CHI 21 for 13 yards (T.Jennings).                                                              & 34 & CHI & CHI & run & 2 & 2011 & 4\\\\\n\t (6:34) (Shotgun) C.Newton right guard for 2 yards, TOUCHDOWN.                                                                                      &  2 & CHI & CHI & run & 3 & 2011 & 4\\\\\n\t ⋮ & ⋮ & ⋮ & ⋮ & ⋮ & ⋮ & ⋮ & ⋮\\\\\n\t (12:04) (Shotgun) C.Newton up the middle to PIT 22 for 8 yards (L.Fort, C.Heyward).                                                                                                                                            & 30 & PIT & PIT & run & 3 & 2018 & 10\\\\\n\t (13:36) C.Newton up the middle to CAR 37 for 2 yards (J.Hargrave).                                                                                                                                                             & 65 & PIT & PIT & run & 3 & 2018 & 10\\\\\n\t (11:45) (Shotgun) C.Newton scrambles right end pushed ob at DET 33 for 2 yards (C.Jones).                                                                                                                                      & 35 & DET & DET & run & 1 & 2018 & 11\\\\\n\t (2:01) (Shotgun) C.Newton up the middle to CAR 30 for no gain (D.Hand).                                                                                                                                                        & 70 & DET & DET & run & 2 & 2018 & 11\\\\\n\t (12:29) (Shotgun) C.Newton left tackle to CAR 44 for 10 yards (B.Mingo; B.Wagner).                                                                                                                                             & 66 & CAR & SEA & run & 2 & 2018 & 12\\\\\n\t (11:08) (No Huddle, Shotgun) C.Newton left guard to SEA 39 for 12 yards (B.McDougald).                                                                                                                                         & 51 & CAR & SEA & run & 2 & 2018 & 12\\\\\n\t (8:06) (Shotgun) C.Newton up the middle to SEA 5 for 2 yards (J.Reed; B.Wagner).                                                                                                                                               &  7 & CAR & SEA & run & 3 & 2018 & 12\\\\\n\t (7:23) (Shotgun) C.Newton right guard to SEA 4 for 1 yard (B.Wagner; A.Calitro). Carolina challenged the short of the line to gain ruling, and the play was Upheld. The ruling on the field stands. (Timeout \\#1 at 07:15.)     &  5 & CAR & SEA & run & 4 & 2018 & 12\\\\\n\t (14:08) (Shotgun) C.Newton scrambles left tackle to SEA 44 for 26 yards (T.Thompson).                                                                                                                                          & 70 & CAR & SEA & run & 3 & 2018 & 12\\\\\n\t (4:08) (Shotgun) C.Newton up the middle to SEA 35 for 9 yards (B.Wagner).                                                                                                                                                      & 44 & CAR & SEA & run & 3 & 2018 & 12\\\\\n\t (2:00) (Shotgun) C.Newton up the middle to SEA 37 for 3 yards (J.Reed).                                                                                                                                                        & 40 & CAR & SEA & run & 1 & 2018 & 12\\\\\n\t (9:46) (Shotgun) C.Newton left end to CAR 27 for 2 yards (L.David).                                                                                                                                                            & 75 & TB  & TB  & run & 1 & 2018 & 13\\\\\n\t (7:47) (Shotgun) C.Newton scrambles right end pushed ob at CAR 18 for 1 yard (W.Gholston).                                                                                                                                     & 83 & TB  & TB  & run & 3 & 2018 & 13\\\\\n\t (4:14) (Shotgun) C.Newton scrambles right end pushed ob at CAR 40 for 15 yards (Dev.Harris).                                                                                                                                   & 75 & TB  & TB  & run & 1 & 2018 & 13\\\\\n\t (2:51) (Shotgun) C.Newton right end to TB 49 for 11 yards (A.Taylor).                                                                                                                                                          & 60 & TB  & TB  & run & 2 & 2018 & 13\\\\\n\t (5:58) (Shotgun) C.Newton right end to TB 32 for 5 yards (Dev.Harris).                                                                                                                                                         & 37 & TB  & TB  & run & 1 & 2018 & 13\\\\\n\t (6:21) (Shotgun) C.Newton left tackle to CAR 37 for 3 yards (C.Smith).                                                                                                                                                         & 66 & CLE & CLE & run & 3 & 2018 & 14\\\\\n\t (:54) (Shotgun) C.Newton scrambles right end pushed ob at CLE 8 for 2 yards (J.Collins Sr.).                                                                                                                                   & 10 & CLE & CLE & run & 2 & 2018 & 14\\\\\n\t (14:11) (Shotgun) C.Newton scrambles right end to CLE 35 for 5 yards (J.Schobert).                                                                                                                                             & 40 & CLE & CLE & run & 2 & 2018 & 14\\\\\n\t (11:37) (Shotgun) C.Newton right end to CAR 48 for 2 yards (T.Vallejo; J.Schobert).                                                                                                                                            & 54 & CLE & CLE & run & 1 & 2018 & 14\\\\\n\t (5:16) (Shotgun) C.Newton up the middle to CLE 33 for 11 yards (B.Boddy-Calhoun).                                                                                                                                              & 44 & CLE & CLE & run & 3 & 2018 & 14\\\\\n\t (7:26) (Shotgun) C.Newton left end to CAR 10 for no gain (V.Bell; A.Klein).                                                                                                                                                    & 90 & CAR & NO  & run & 1 & 2018 & 15\\\\\n\t (8:45) C.Newton up the middle to CAR 37 for 3 yards (A.Klein; M.Davenport).                                                                                                                                                    & 66 & CAR & NO  & run & 3 & 2018 & 15\\\\\n\t (2:46) (Shotgun) C.Newton scrambles up the middle to CAR 18 for 5 yards (A.Okafor). Penalty on CAR-T.Moton, Offensive Holding, declined.                                                                                       & 87 & CAR & NO  & run & 3 & 2018 & 15\\\\\n\t (:40) (Shotgun) C.Newton up the middle to NO 20 for 5 yards (P.Williams, C.Jordan).                                                                                                                                            & 25 & CAR & NO  & run & 2 & 2018 & 15\\\\\n\t (3:50) (Shotgun) C.Newton right tackle to CAR 49 for 1 yard (A.Anzalone). Carolina challenged the short of the line to gain ruling, and the play was REVERSED. (Shotgun) C.Newton right tackle to 50 for 2 yards (A.Anzalone). & 52 & CAR & NO  & run & 3 & 2018 & 15\\\\\n\t (11:49) (Shotgun) C.Newton scrambles up the middle to CAR 43 for 3 yards (B.Hager).                                                                                                                                            & 60 & CAR & LA  & run & 2 & 2019 &  1\\\\\n\t (12:02) (Shotgun) C.Newton up the middle to CAR 29 for no gain (A.Donald).                                                                                                                                                     & 71 & CAR & LA  & run & 1 & 2019 &  1\\\\\n\t (8:40) (Shotgun) C.Newton right end to TB 47 for no gain (J.Whitehead). Carolina challenged the short of the line to gain ruling, and the play was Upheld. The ruling on the field stands. (Timeout \\#1 at 08:31.)              & 47 & CAR & TB  & run & 4 & 2019 &  2\\\\\n\t (3:04) (Shotgun) C.Newton up the middle to CAR 44 for no gain (A.Nelson; L.David). FUMBLES (A.Nelson), RECOVERED by TB-N.Suh at CAR 45. N.Suh to CAR 45 for no gain (T.Moton).                                                 & 56 & CAR & TB  & run & 2 & 2019 &  2\\\\\n\\end{tabular}\n",
            "text/markdown": "\nA tibble: 840 × 8\n\n| desc &lt;chr&gt; | yardline_100 &lt;dbl&gt; | home_team &lt;chr&gt; | defteam &lt;chr&gt; | play_type &lt;chr&gt; | down &lt;dbl&gt; | season &lt;dbl&gt; | week &lt;dbl&gt; |\n|---|---|---|---|---|---|---|---|\n| (4:19) C.Newton up the middle to CAR 30 for -4 yards (R.Marshall).                                                                                 | 66 | ARI | ARI | run | 2 | 2011 | 1 |\n| (:07) C.Newton scrambles right tackle to CAR 41 for 3 yards (P.Lenon).                                                                             | 62 | ARI | ARI | run | 1 | 2011 | 1 |\n| (5:11) (Shotgun) C.Newton scrambles right end to CAR 14 for 2 yards (P.Lenon).                                                                     | 88 | ARI | ARI | run | 3 | 2011 | 1 |\n| (1:03) (Shotgun) C.Newton scrambles right end pushed ob at CAR 38 for 12 yards (D.Washington).                                                     | 74 | ARI | ARI | run | 1 | 2011 | 1 |\n| (6:29) C.Newton up the middle to ARI 1 for 1 yard (D.Williams).                                                                                    |  2 | ARI | ARI | run | 1 | 2011 | 1 |\n| (5:54) (Shotgun) C.Newton up the middle for 1 yard, TOUCHDOWN. PENALTY on CAR-C.Newton, Unsportsmanlike Conduct, 15 yards, enforced between downs. |  1 | ARI | ARI | run | 2 | 2011 | 1 |\n| (5:51) (Shotgun) C.Newton scrambles up the middle to CAR 36 for 2 yards (N.Eason, P.Lenon).                                                        | 66 | ARI | ARI | run | 3 | 2011 | 1 |\n| (1:54) (Shotgun) C.Newton scrambles right end ran ob at ARI 45 for 1 yard (C.Campbell).                                                            | 46 | ARI | ARI | run | 1 | 2011 | 1 |\n| (10:43) (Shotgun) C.Newton scrambles right end to GB 1 for 3 yards (M.Burnett).                                                                    |  4 | CAR | GB  | run | 2 | 2011 | 2 |\n| (8:18) (Shotgun) C.Newton scrambles up the middle to GB 5 for 6 yards (J.Bush).                                                                    | 11 | CAR | GB  | run | 2 | 2011 | 2 |\n| (2:55) (Shotgun) C.Newton scrambles right end to CAR 42 for 9 yards (D.Bishop).                                                                    | 67 | CAR | GB  | run | 3 | 2011 | 2 |\n| (5:46) C.Newton scrambles left end to CAR 25 for 12 yards (N.Collins).                                                                             | 87 | CAR | GB  | run | 1 | 2011 | 2 |\n| (3:50) C.Newton scrambles up the middle to CAR 39 for 7 yards (E.Walden).                                                                          | 68 | CAR | GB  | run | 1 | 2011 | 2 |\n| (14:24) (Shotgun) C.Newton scrambles up the middle to GB 44 for 2 yards (B.Raji, J.Wynn).                                                          | 46 | CAR | GB  | run | 1 | 2011 | 2 |\n| (11:00) (Shotgun) C.Newton scrambles up the middle to GB 3 for 5 yards (B.Raji).                                                                   |  8 | CAR | GB  | run | 1 | 2011 | 2 |\n| (3:22) (Shotgun) C.Newton scrambles up the middle to GB 3 for 3 yards (C.Matthews).                                                                |  6 | CAR | GB  | run | 4 | 2011 | 2 |\n| (:47) (Shotgun) C.Newton scrambles up the middle to GB 4 for 2 yards (C.Wilson).                                                                   |  6 | CAR | GB  | run | 2 | 2011 | 2 |\n| (:41) (Shotgun) C.Newton up the middle for 4 yards, TOUCHDOWN.                                                                                     |  4 | CAR | GB  | run | 3 | 2011 | 2 |\n| (13:34) (Shotgun) C.Newton up the middle to CAR 35 for 6 yards (C.Prosinski).                                                                      | 71 | CAR | JAC | run | 3 | 2011 | 3 |\n| (11:13) C.Newton scrambles right end to JAC 47 for 6 yards (D.Smith).                                                                              | 53 | CAR | JAC | run | 2 | 2011 | 3 |\n| (5:20) C.Newton scrambles right end to JAC 47 for 4 yards (D.Coleman).                                                                             | 51 | CAR | JAC | run | 2 | 2011 | 3 |\n| (15:00) (Shotgun) C.Newton right end to JAC 17 for 1 yard (D.Lowery).                                                                              | 18 | CAR | JAC | run | 3 | 2011 | 3 |\n| (3:56) (Shotgun) C.Newton right tackle to JAC 15 for 2 yards (A.Lane).                                                                             | 17 | CAR | JAC | run | 2 | 2011 | 3 |\n| (3:12) (Shotgun) C.Newton up the middle to JAC 14 for 1 yard (A.Lane; T.Alualu).                                                                   | 15 | CAR | JAC | run | 3 | 2011 | 3 |\n| (4:41) (Shotgun) C.Newton scrambles right end to JAC 16 for 7 yards (D.Smith).                                                                     | 23 | CAR | JAC | run | 2 | 2011 | 3 |\n| (2:13) (Shotgun) C.Newton right end pushed ob at CAR 43 for 14 yards (B.Meriweather).                                                              | 71 | CHI | CHI | run | 3 | 2011 | 4 |\n| (:14) (Shotgun) C.Newton right guard to CHI 1 for no gain (A.Okoye).                                                                               |  1 | CHI | CHI | run | 1 | 2011 | 4 |\n| (15:00) C.Newton right end for 1 yard, TOUCHDOWN.                                                                                                  |  1 | CHI | CHI | run | 2 | 2011 | 4 |\n| (10:15) C.Newton scrambles left tackle pushed ob at CHI 21 for 13 yards (T.Jennings).                                                              | 34 | CHI | CHI | run | 2 | 2011 | 4 |\n| (6:34) (Shotgun) C.Newton right guard for 2 yards, TOUCHDOWN.                                                                                      |  2 | CHI | CHI | run | 3 | 2011 | 4 |\n| ⋮ | ⋮ | ⋮ | ⋮ | ⋮ | ⋮ | ⋮ | ⋮ |\n| (12:04) (Shotgun) C.Newton up the middle to PIT 22 for 8 yards (L.Fort, C.Heyward).                                                                                                                                            | 30 | PIT | PIT | run | 3 | 2018 | 10 |\n| (13:36) C.Newton up the middle to CAR 37 for 2 yards (J.Hargrave).                                                                                                                                                             | 65 | PIT | PIT | run | 3 | 2018 | 10 |\n| (11:45) (Shotgun) C.Newton scrambles right end pushed ob at DET 33 for 2 yards (C.Jones).                                                                                                                                      | 35 | DET | DET | run | 1 | 2018 | 11 |\n| (2:01) (Shotgun) C.Newton up the middle to CAR 30 for no gain (D.Hand).                                                                                                                                                        | 70 | DET | DET | run | 2 | 2018 | 11 |\n| (12:29) (Shotgun) C.Newton left tackle to CAR 44 for 10 yards (B.Mingo; B.Wagner).                                                                                                                                             | 66 | CAR | SEA | run | 2 | 2018 | 12 |\n| (11:08) (No Huddle, Shotgun) C.Newton left guard to SEA 39 for 12 yards (B.McDougald).                                                                                                                                         | 51 | CAR | SEA | run | 2 | 2018 | 12 |\n| (8:06) (Shotgun) C.Newton up the middle to SEA 5 for 2 yards (J.Reed; B.Wagner).                                                                                                                                               |  7 | CAR | SEA | run | 3 | 2018 | 12 |\n| (7:23) (Shotgun) C.Newton right guard to SEA 4 for 1 yard (B.Wagner; A.Calitro). Carolina challenged the short of the line to gain ruling, and the play was Upheld. The ruling on the field stands. (Timeout #1 at 07:15.)     |  5 | CAR | SEA | run | 4 | 2018 | 12 |\n| (14:08) (Shotgun) C.Newton scrambles left tackle to SEA 44 for 26 yards (T.Thompson).                                                                                                                                          | 70 | CAR | SEA | run | 3 | 2018 | 12 |\n| (4:08) (Shotgun) C.Newton up the middle to SEA 35 for 9 yards (B.Wagner).                                                                                                                                                      | 44 | CAR | SEA | run | 3 | 2018 | 12 |\n| (2:00) (Shotgun) C.Newton up the middle to SEA 37 for 3 yards (J.Reed).                                                                                                                                                        | 40 | CAR | SEA | run | 1 | 2018 | 12 |\n| (9:46) (Shotgun) C.Newton left end to CAR 27 for 2 yards (L.David).                                                                                                                                                            | 75 | TB  | TB  | run | 1 | 2018 | 13 |\n| (7:47) (Shotgun) C.Newton scrambles right end pushed ob at CAR 18 for 1 yard (W.Gholston).                                                                                                                                     | 83 | TB  | TB  | run | 3 | 2018 | 13 |\n| (4:14) (Shotgun) C.Newton scrambles right end pushed ob at CAR 40 for 15 yards (Dev.Harris).                                                                                                                                   | 75 | TB  | TB  | run | 1 | 2018 | 13 |\n| (2:51) (Shotgun) C.Newton right end to TB 49 for 11 yards (A.Taylor).                                                                                                                                                          | 60 | TB  | TB  | run | 2 | 2018 | 13 |\n| (5:58) (Shotgun) C.Newton right end to TB 32 for 5 yards (Dev.Harris).                                                                                                                                                         | 37 | TB  | TB  | run | 1 | 2018 | 13 |\n| (6:21) (Shotgun) C.Newton left tackle to CAR 37 for 3 yards (C.Smith).                                                                                                                                                         | 66 | CLE | CLE | run | 3 | 2018 | 14 |\n| (:54) (Shotgun) C.Newton scrambles right end pushed ob at CLE 8 for 2 yards (J.Collins Sr.).                                                                                                                                   | 10 | CLE | CLE | run | 2 | 2018 | 14 |\n| (14:11) (Shotgun) C.Newton scrambles right end to CLE 35 for 5 yards (J.Schobert).                                                                                                                                             | 40 | CLE | CLE | run | 2 | 2018 | 14 |\n| (11:37) (Shotgun) C.Newton right end to CAR 48 for 2 yards (T.Vallejo; J.Schobert).                                                                                                                                            | 54 | CLE | CLE | run | 1 | 2018 | 14 |\n| (5:16) (Shotgun) C.Newton up the middle to CLE 33 for 11 yards (B.Boddy-Calhoun).                                                                                                                                              | 44 | CLE | CLE | run | 3 | 2018 | 14 |\n| (7:26) (Shotgun) C.Newton left end to CAR 10 for no gain (V.Bell; A.Klein).                                                                                                                                                    | 90 | CAR | NO  | run | 1 | 2018 | 15 |\n| (8:45) C.Newton up the middle to CAR 37 for 3 yards (A.Klein; M.Davenport).                                                                                                                                                    | 66 | CAR | NO  | run | 3 | 2018 | 15 |\n| (2:46) (Shotgun) C.Newton scrambles up the middle to CAR 18 for 5 yards (A.Okafor). Penalty on CAR-T.Moton, Offensive Holding, declined.                                                                                       | 87 | CAR | NO  | run | 3 | 2018 | 15 |\n| (:40) (Shotgun) C.Newton up the middle to NO 20 for 5 yards (P.Williams, C.Jordan).                                                                                                                                            | 25 | CAR | NO  | run | 2 | 2018 | 15 |\n| (3:50) (Shotgun) C.Newton right tackle to CAR 49 for 1 yard (A.Anzalone). Carolina challenged the short of the line to gain ruling, and the play was REVERSED. (Shotgun) C.Newton right tackle to 50 for 2 yards (A.Anzalone). | 52 | CAR | NO  | run | 3 | 2018 | 15 |\n| (11:49) (Shotgun) C.Newton scrambles up the middle to CAR 43 for 3 yards (B.Hager).                                                                                                                                            | 60 | CAR | LA  | run | 2 | 2019 |  1 |\n| (12:02) (Shotgun) C.Newton up the middle to CAR 29 for no gain (A.Donald).                                                                                                                                                     | 71 | CAR | LA  | run | 1 | 2019 |  1 |\n| (8:40) (Shotgun) C.Newton right end to TB 47 for no gain (J.Whitehead). Carolina challenged the short of the line to gain ruling, and the play was Upheld. The ruling on the field stands. (Timeout #1 at 08:31.)              | 47 | CAR | TB  | run | 4 | 2019 |  2 |\n| (3:04) (Shotgun) C.Newton up the middle to CAR 44 for no gain (A.Nelson; L.David). FUMBLES (A.Nelson), RECOVERED by TB-N.Suh at CAR 45. N.Suh to CAR 45 for no gain (T.Moton).                                                 | 56 | CAR | TB  | run | 2 | 2019 |  2 |\n\n",
            "text/html": [
              "<table>\n",
              "<caption>A tibble: 840 × 8</caption>\n",
              "<thead>\n",
              "\t<tr><th scope=col>desc</th><th scope=col>yardline_100</th><th scope=col>home_team</th><th scope=col>defteam</th><th scope=col>play_type</th><th scope=col>down</th><th scope=col>season</th><th scope=col>week</th></tr>\n",
              "\t<tr><th scope=col>&lt;chr&gt;</th><th scope=col>&lt;dbl&gt;</th><th scope=col>&lt;chr&gt;</th><th scope=col>&lt;chr&gt;</th><th scope=col>&lt;chr&gt;</th><th scope=col>&lt;dbl&gt;</th><th scope=col>&lt;dbl&gt;</th><th scope=col>&lt;dbl&gt;</th></tr>\n",
              "</thead>\n",
              "<tbody>\n",
              "\t<tr><td>(4:19) C.Newton up the middle to CAR 30 for -4 yards (R.Marshall).                                                                                </td><td>66</td><td>ARI</td><td>ARI</td><td>run</td><td>2</td><td>2011</td><td>1</td></tr>\n",
              "\t<tr><td>(:07) C.Newton scrambles right tackle to CAR 41 for 3 yards (P.Lenon).                                                                            </td><td>62</td><td>ARI</td><td>ARI</td><td>run</td><td>1</td><td>2011</td><td>1</td></tr>\n",
              "\t<tr><td>(5:11) (Shotgun) C.Newton scrambles right end to CAR 14 for 2 yards (P.Lenon).                                                                    </td><td>88</td><td>ARI</td><td>ARI</td><td>run</td><td>3</td><td>2011</td><td>1</td></tr>\n",
              "\t<tr><td>(1:03) (Shotgun) C.Newton scrambles right end pushed ob at CAR 38 for 12 yards (D.Washington).                                                    </td><td>74</td><td>ARI</td><td>ARI</td><td>run</td><td>1</td><td>2011</td><td>1</td></tr>\n",
              "\t<tr><td>(6:29) C.Newton up the middle to ARI 1 for 1 yard (D.Williams).                                                                                   </td><td> 2</td><td>ARI</td><td>ARI</td><td>run</td><td>1</td><td>2011</td><td>1</td></tr>\n",
              "\t<tr><td>(5:54) (Shotgun) C.Newton up the middle for 1 yard, TOUCHDOWN. PENALTY on CAR-C.Newton, Unsportsmanlike Conduct, 15 yards, enforced between downs.</td><td> 1</td><td>ARI</td><td>ARI</td><td>run</td><td>2</td><td>2011</td><td>1</td></tr>\n",
              "\t<tr><td>(5:51) (Shotgun) C.Newton scrambles up the middle to CAR 36 for 2 yards (N.Eason, P.Lenon).                                                       </td><td>66</td><td>ARI</td><td>ARI</td><td>run</td><td>3</td><td>2011</td><td>1</td></tr>\n",
              "\t<tr><td>(1:54) (Shotgun) C.Newton scrambles right end ran ob at ARI 45 for 1 yard (C.Campbell).                                                           </td><td>46</td><td>ARI</td><td>ARI</td><td>run</td><td>1</td><td>2011</td><td>1</td></tr>\n",
              "\t<tr><td>(10:43) (Shotgun) C.Newton scrambles right end to GB 1 for 3 yards (M.Burnett).                                                                   </td><td> 4</td><td>CAR</td><td>GB </td><td>run</td><td>2</td><td>2011</td><td>2</td></tr>\n",
              "\t<tr><td>(8:18) (Shotgun) C.Newton scrambles up the middle to GB 5 for 6 yards (J.Bush).                                                                   </td><td>11</td><td>CAR</td><td>GB </td><td>run</td><td>2</td><td>2011</td><td>2</td></tr>\n",
              "\t<tr><td>(2:55) (Shotgun) C.Newton scrambles right end to CAR 42 for 9 yards (D.Bishop).                                                                   </td><td>67</td><td>CAR</td><td>GB </td><td>run</td><td>3</td><td>2011</td><td>2</td></tr>\n",
              "\t<tr><td>(5:46) C.Newton scrambles left end to CAR 25 for 12 yards (N.Collins).                                                                            </td><td>87</td><td>CAR</td><td>GB </td><td>run</td><td>1</td><td>2011</td><td>2</td></tr>\n",
              "\t<tr><td>(3:50) C.Newton scrambles up the middle to CAR 39 for 7 yards (E.Walden).                                                                         </td><td>68</td><td>CAR</td><td>GB </td><td>run</td><td>1</td><td>2011</td><td>2</td></tr>\n",
              "\t<tr><td>(14:24) (Shotgun) C.Newton scrambles up the middle to GB 44 for 2 yards (B.Raji, J.Wynn).                                                         </td><td>46</td><td>CAR</td><td>GB </td><td>run</td><td>1</td><td>2011</td><td>2</td></tr>\n",
              "\t<tr><td>(11:00) (Shotgun) C.Newton scrambles up the middle to GB 3 for 5 yards (B.Raji).                                                                  </td><td> 8</td><td>CAR</td><td>GB </td><td>run</td><td>1</td><td>2011</td><td>2</td></tr>\n",
              "\t<tr><td>(3:22) (Shotgun) C.Newton scrambles up the middle to GB 3 for 3 yards (C.Matthews).                                                               </td><td> 6</td><td>CAR</td><td>GB </td><td>run</td><td>4</td><td>2011</td><td>2</td></tr>\n",
              "\t<tr><td>(:47) (Shotgun) C.Newton scrambles up the middle to GB 4 for 2 yards (C.Wilson).                                                                  </td><td> 6</td><td>CAR</td><td>GB </td><td>run</td><td>2</td><td>2011</td><td>2</td></tr>\n",
              "\t<tr><td>(:41) (Shotgun) C.Newton up the middle for 4 yards, TOUCHDOWN.                                                                                    </td><td> 4</td><td>CAR</td><td>GB </td><td>run</td><td>3</td><td>2011</td><td>2</td></tr>\n",
              "\t<tr><td>(13:34) (Shotgun) C.Newton up the middle to CAR 35 for 6 yards (C.Prosinski).                                                                     </td><td>71</td><td>CAR</td><td>JAC</td><td>run</td><td>3</td><td>2011</td><td>3</td></tr>\n",
              "\t<tr><td>(11:13) C.Newton scrambles right end to JAC 47 for 6 yards (D.Smith).                                                                             </td><td>53</td><td>CAR</td><td>JAC</td><td>run</td><td>2</td><td>2011</td><td>3</td></tr>\n",
              "\t<tr><td>(5:20) C.Newton scrambles right end to JAC 47 for 4 yards (D.Coleman).                                                                            </td><td>51</td><td>CAR</td><td>JAC</td><td>run</td><td>2</td><td>2011</td><td>3</td></tr>\n",
              "\t<tr><td>(15:00) (Shotgun) C.Newton right end to JAC 17 for 1 yard (D.Lowery).                                                                             </td><td>18</td><td>CAR</td><td>JAC</td><td>run</td><td>3</td><td>2011</td><td>3</td></tr>\n",
              "\t<tr><td>(3:56) (Shotgun) C.Newton right tackle to JAC 15 for 2 yards (A.Lane).                                                                            </td><td>17</td><td>CAR</td><td>JAC</td><td>run</td><td>2</td><td>2011</td><td>3</td></tr>\n",
              "\t<tr><td>(3:12) (Shotgun) C.Newton up the middle to JAC 14 for 1 yard (A.Lane; T.Alualu).                                                                  </td><td>15</td><td>CAR</td><td>JAC</td><td>run</td><td>3</td><td>2011</td><td>3</td></tr>\n",
              "\t<tr><td>(4:41) (Shotgun) C.Newton scrambles right end to JAC 16 for 7 yards (D.Smith).                                                                    </td><td>23</td><td>CAR</td><td>JAC</td><td>run</td><td>2</td><td>2011</td><td>3</td></tr>\n",
              "\t<tr><td>(2:13) (Shotgun) C.Newton right end pushed ob at CAR 43 for 14 yards (B.Meriweather).                                                             </td><td>71</td><td>CHI</td><td>CHI</td><td>run</td><td>3</td><td>2011</td><td>4</td></tr>\n",
              "\t<tr><td>(:14) (Shotgun) C.Newton right guard to CHI 1 for no gain (A.Okoye).                                                                              </td><td> 1</td><td>CHI</td><td>CHI</td><td>run</td><td>1</td><td>2011</td><td>4</td></tr>\n",
              "\t<tr><td>(15:00) C.Newton right end for 1 yard, TOUCHDOWN.                                                                                                 </td><td> 1</td><td>CHI</td><td>CHI</td><td>run</td><td>2</td><td>2011</td><td>4</td></tr>\n",
              "\t<tr><td>(10:15) C.Newton scrambles left tackle pushed ob at CHI 21 for 13 yards (T.Jennings).                                                             </td><td>34</td><td>CHI</td><td>CHI</td><td>run</td><td>2</td><td>2011</td><td>4</td></tr>\n",
              "\t<tr><td>(6:34) (Shotgun) C.Newton right guard for 2 yards, TOUCHDOWN.                                                                                     </td><td> 2</td><td>CHI</td><td>CHI</td><td>run</td><td>3</td><td>2011</td><td>4</td></tr>\n",
              "\t<tr><td>⋮</td><td>⋮</td><td>⋮</td><td>⋮</td><td>⋮</td><td>⋮</td><td>⋮</td><td>⋮</td></tr>\n",
              "\t<tr><td>(12:04) (Shotgun) C.Newton up the middle to PIT 22 for 8 yards (L.Fort, C.Heyward).                                                                                                                                           </td><td>30</td><td>PIT</td><td>PIT</td><td>run</td><td>3</td><td>2018</td><td>10</td></tr>\n",
              "\t<tr><td>(13:36) C.Newton up the middle to CAR 37 for 2 yards (J.Hargrave).                                                                                                                                                            </td><td>65</td><td>PIT</td><td>PIT</td><td>run</td><td>3</td><td>2018</td><td>10</td></tr>\n",
              "\t<tr><td>(11:45) (Shotgun) C.Newton scrambles right end pushed ob at DET 33 for 2 yards (C.Jones).                                                                                                                                     </td><td>35</td><td>DET</td><td>DET</td><td>run</td><td>1</td><td>2018</td><td>11</td></tr>\n",
              "\t<tr><td>(2:01) (Shotgun) C.Newton up the middle to CAR 30 for no gain (D.Hand).                                                                                                                                                       </td><td>70</td><td>DET</td><td>DET</td><td>run</td><td>2</td><td>2018</td><td>11</td></tr>\n",
              "\t<tr><td>(12:29) (Shotgun) C.Newton left tackle to CAR 44 for 10 yards (B.Mingo; B.Wagner).                                                                                                                                            </td><td>66</td><td>CAR</td><td>SEA</td><td>run</td><td>2</td><td>2018</td><td>12</td></tr>\n",
              "\t<tr><td>(11:08) (No Huddle, Shotgun) C.Newton left guard to SEA 39 for 12 yards (B.McDougald).                                                                                                                                        </td><td>51</td><td>CAR</td><td>SEA</td><td>run</td><td>2</td><td>2018</td><td>12</td></tr>\n",
              "\t<tr><td>(8:06) (Shotgun) C.Newton up the middle to SEA 5 for 2 yards (J.Reed; B.Wagner).                                                                                                                                              </td><td> 7</td><td>CAR</td><td>SEA</td><td>run</td><td>3</td><td>2018</td><td>12</td></tr>\n",
              "\t<tr><td>(7:23) (Shotgun) C.Newton right guard to SEA 4 for 1 yard (B.Wagner; A.Calitro). Carolina challenged the short of the line to gain ruling, and the play was Upheld. The ruling on the field stands. (Timeout #1 at 07:15.)    </td><td> 5</td><td>CAR</td><td>SEA</td><td>run</td><td>4</td><td>2018</td><td>12</td></tr>\n",
              "\t<tr><td>(14:08) (Shotgun) C.Newton scrambles left tackle to SEA 44 for 26 yards (T.Thompson).                                                                                                                                         </td><td>70</td><td>CAR</td><td>SEA</td><td>run</td><td>3</td><td>2018</td><td>12</td></tr>\n",
              "\t<tr><td>(4:08) (Shotgun) C.Newton up the middle to SEA 35 for 9 yards (B.Wagner).                                                                                                                                                     </td><td>44</td><td>CAR</td><td>SEA</td><td>run</td><td>3</td><td>2018</td><td>12</td></tr>\n",
              "\t<tr><td>(2:00) (Shotgun) C.Newton up the middle to SEA 37 for 3 yards (J.Reed).                                                                                                                                                       </td><td>40</td><td>CAR</td><td>SEA</td><td>run</td><td>1</td><td>2018</td><td>12</td></tr>\n",
              "\t<tr><td>(9:46) (Shotgun) C.Newton left end to CAR 27 for 2 yards (L.David).                                                                                                                                                           </td><td>75</td><td>TB </td><td>TB </td><td>run</td><td>1</td><td>2018</td><td>13</td></tr>\n",
              "\t<tr><td>(7:47) (Shotgun) C.Newton scrambles right end pushed ob at CAR 18 for 1 yard (W.Gholston).                                                                                                                                    </td><td>83</td><td>TB </td><td>TB </td><td>run</td><td>3</td><td>2018</td><td>13</td></tr>\n",
              "\t<tr><td>(4:14) (Shotgun) C.Newton scrambles right end pushed ob at CAR 40 for 15 yards (Dev.Harris).                                                                                                                                  </td><td>75</td><td>TB </td><td>TB </td><td>run</td><td>1</td><td>2018</td><td>13</td></tr>\n",
              "\t<tr><td>(2:51) (Shotgun) C.Newton right end to TB 49 for 11 yards (A.Taylor).                                                                                                                                                         </td><td>60</td><td>TB </td><td>TB </td><td>run</td><td>2</td><td>2018</td><td>13</td></tr>\n",
              "\t<tr><td>(5:58) (Shotgun) C.Newton right end to TB 32 for 5 yards (Dev.Harris).                                                                                                                                                        </td><td>37</td><td>TB </td><td>TB </td><td>run</td><td>1</td><td>2018</td><td>13</td></tr>\n",
              "\t<tr><td>(6:21) (Shotgun) C.Newton left tackle to CAR 37 for 3 yards (C.Smith).                                                                                                                                                        </td><td>66</td><td>CLE</td><td>CLE</td><td>run</td><td>3</td><td>2018</td><td>14</td></tr>\n",
              "\t<tr><td>(:54) (Shotgun) C.Newton scrambles right end pushed ob at CLE 8 for 2 yards (J.Collins Sr.).                                                                                                                                  </td><td>10</td><td>CLE</td><td>CLE</td><td>run</td><td>2</td><td>2018</td><td>14</td></tr>\n",
              "\t<tr><td>(14:11) (Shotgun) C.Newton scrambles right end to CLE 35 for 5 yards (J.Schobert).                                                                                                                                            </td><td>40</td><td>CLE</td><td>CLE</td><td>run</td><td>2</td><td>2018</td><td>14</td></tr>\n",
              "\t<tr><td>(11:37) (Shotgun) C.Newton right end to CAR 48 for 2 yards (T.Vallejo; J.Schobert).                                                                                                                                           </td><td>54</td><td>CLE</td><td>CLE</td><td>run</td><td>1</td><td>2018</td><td>14</td></tr>\n",
              "\t<tr><td>(5:16) (Shotgun) C.Newton up the middle to CLE 33 for 11 yards (B.Boddy-Calhoun).                                                                                                                                             </td><td>44</td><td>CLE</td><td>CLE</td><td>run</td><td>3</td><td>2018</td><td>14</td></tr>\n",
              "\t<tr><td>(7:26) (Shotgun) C.Newton left end to CAR 10 for no gain (V.Bell; A.Klein).                                                                                                                                                   </td><td>90</td><td>CAR</td><td>NO </td><td>run</td><td>1</td><td>2018</td><td>15</td></tr>\n",
              "\t<tr><td>(8:45) C.Newton up the middle to CAR 37 for 3 yards (A.Klein; M.Davenport).                                                                                                                                                   </td><td>66</td><td>CAR</td><td>NO </td><td>run</td><td>3</td><td>2018</td><td>15</td></tr>\n",
              "\t<tr><td>(2:46) (Shotgun) C.Newton scrambles up the middle to CAR 18 for 5 yards (A.Okafor). Penalty on CAR-T.Moton, Offensive Holding, declined.                                                                                      </td><td>87</td><td>CAR</td><td>NO </td><td>run</td><td>3</td><td>2018</td><td>15</td></tr>\n",
              "\t<tr><td>(:40) (Shotgun) C.Newton up the middle to NO 20 for 5 yards (P.Williams, C.Jordan).                                                                                                                                           </td><td>25</td><td>CAR</td><td>NO </td><td>run</td><td>2</td><td>2018</td><td>15</td></tr>\n",
              "\t<tr><td>(3:50) (Shotgun) C.Newton right tackle to CAR 49 for 1 yard (A.Anzalone). Carolina challenged the short of the line to gain ruling, and the play was REVERSED. (Shotgun) C.Newton right tackle to 50 for 2 yards (A.Anzalone).</td><td>52</td><td>CAR</td><td>NO </td><td>run</td><td>3</td><td>2018</td><td>15</td></tr>\n",
              "\t<tr><td>(11:49) (Shotgun) C.Newton scrambles up the middle to CAR 43 for 3 yards (B.Hager).                                                                                                                                           </td><td>60</td><td>CAR</td><td>LA </td><td>run</td><td>2</td><td>2019</td><td> 1</td></tr>\n",
              "\t<tr><td>(12:02) (Shotgun) C.Newton up the middle to CAR 29 for no gain (A.Donald).                                                                                                                                                    </td><td>71</td><td>CAR</td><td>LA </td><td>run</td><td>1</td><td>2019</td><td> 1</td></tr>\n",
              "\t<tr><td>(8:40) (Shotgun) C.Newton right end to TB 47 for no gain (J.Whitehead). Carolina challenged the short of the line to gain ruling, and the play was Upheld. The ruling on the field stands. (Timeout #1 at 08:31.)             </td><td>47</td><td>CAR</td><td>TB </td><td>run</td><td>4</td><td>2019</td><td> 2</td></tr>\n",
              "\t<tr><td>(3:04) (Shotgun) C.Newton up the middle to CAR 44 for no gain (A.Nelson; L.David). FUMBLES (A.Nelson), RECOVERED by TB-N.Suh at CAR 45. N.Suh to CAR 45 for no gain (T.Moton).                                                </td><td>56</td><td>CAR</td><td>TB </td><td>run</td><td>2</td><td>2019</td><td> 2</td></tr>\n",
              "</tbody>\n",
              "</table>\n"
            ]
          },
          "metadata": {
            "tags": []
          }
        }
      ]
    }
  ]
}